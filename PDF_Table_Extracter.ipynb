{
  "cells": [
    {
      "cell_type": "markdown",
      "metadata": {
        "id": "tUpVRF2m9bdx"
      },
      "source": [
        "# PDF Table Exracter\n",
        "*Automate the process of extracting tables from PDF files and saving them as CSV files.*\\\n",
        "*Author: Allen Aguas*\\\n",
        "*Version: 1.0*\n",
        "\n",
        "\n"
      ]
    },
    {
      "cell_type": "markdown",
      "metadata": {
        "id": "dEHXCjrO9bd0"
      },
      "source": [
        "## Prerequisites\n",
        "Before running this notebook, you need to install the following packages:\n",
        "\n",
        "`pip install pdfplumber pandas`\n",
        "\n",
        "**(*if running in ide like vs code you can use the pip install command in the terminal to install the packages and then run the notebook*)**\n",
        "\n",
        "## How the script works\n",
        "1. The script uses the `pdfplumber` library to extract the text from the PDF file.\n",
        "2. pdfplumber works best with well-structured PDFs where tables have clear boundaries\n",
        "3. For complex PDFs with irregular tables, you might need more advanced tools\n",
        "The extracted tables might require additional cleaning depending on the PDF structure\n",
        "\n",
        "\n",
        "\n",
        "\n",
        "\n",
        "\n"
      ]
    },
    {
      "cell_type": "code",
      "execution_count": null,
      "metadata": {
        "id": "XYsBtaIV9bd1"
      },
      "outputs": [],
      "source": [
        "# PDF Table Extraction Tool\n",
        "# Import required libraries\n",
        "\n",
        "import os\n",
        "import pdfplumber\n",
        "import pandas as pd"
      ]
    },
    {
      "cell_type": "markdown",
      "metadata": {
        "id": "HiI-Sjk6-c2L"
      },
      "source": [
        "## Prerequisites\n",
        "Before running this notebook, you need to install the following packages:\n",
        "\n",
        "`pip install pdfplumber pandas`\n",
        "\n",
        "**(*if running in ide like vs code you can use the pip install command in the terminal to install the packages and then run the notebook*)**\n",
        "\n",
        "## How the script works\n",
        "1. The script uses the `pdfplumber` library to extract the text from the PDF file.\n",
        "2. pdfplumber works best with well-structured PDFs where tables have clear boundaries\n",
        "3. For complex PDFs with irregular tables, you might need more advanced tools\n",
        "The extracted tables might require additional cleaning depending on the PDF structure\n",
        "\n",
        "\n",
        "\n",
        "\n",
        "\n",
        "\n"
      ]
    },
    {
      "cell_type": "markdown",
      "metadata": {
        "id": "jj_yswzS-ax-"
      },
      "source": [
        "## Prerequisites\n",
        "Before running this notebook, you need to install the following packages:\n",
        "\n",
        "`pip install pdfplumber pandas`\n",
        "\n",
        "**(*if running in ide like vs code you can use the pip install command in the terminal to install the packages and then run the notebook*)**\n",
        "\n",
        "## How the script works\n",
        "1. The script uses the `pdfplumber` library to extract the text from the PDF file.\n",
        "2. pdfplumber works best with well-structured PDFs where tables have clear boundaries\n",
        "3. For complex PDFs with irregular tables, you might need more advanced tools\n",
        "The extracted tables might require additional cleaning depending on the PDF structure\n",
        "\n",
        "\n",
        "\n",
        "\n",
        "\n",
        "\n"
      ]
    },
    {
      "cell_type": "markdown",
      "metadata": {
        "id": "LAxDX_hC-Y6D"
      },
      "source": [
        "## Prerequisites\n",
        "Before running this notebook, you need to install the following packages:\n",
        "\n",
        "`pip install pdfplumber pandas`\n",
        "\n",
        "**(*if running in ide like vs code you can use the pip install command in the terminal to install the packages and then run the notebook*)**\n",
        "\n",
        "## How the script works\n",
        "1. The script uses the `pdfplumber` library to extract the text from the PDF file.\n",
        "2. pdfplumber works best with well-structured PDFs where tables have clear boundaries\n",
        "3. For complex PDFs with irregular tables, you might need more advanced tools\n",
        "The extracted tables might require additional cleaning depending on the PDF structure\n",
        "\n",
        "\n",
        "\n",
        "\n",
        "\n",
        "\n"
      ]
    },
    {
      "cell_type": "markdown",
      "metadata": {
        "id": "0pKyuv-99bd2"
      },
      "source": [
        "## File Paths\n",
        "by default the file path for the PDF and the output file will be in the same directory as the script, which in this case is the 'downloads' folder.\n",
        "\n",
        "**(*The script itself can be located anywhere on the system, but it will always look for the PDF in the Downloads folder and save the output there. Change the file paths as needed*)**."
      ]
    },
    {
      "cell_type": "code",
      "execution_count": null,
      "metadata": {
        "colab": {
          "base_uri": "https://localhost:8080/"
        },
        "id": "KgmTd51v9bd2",
        "outputId": "1d3c375b-fecb-4af4-f0b3-aff733cdb8d2"
      },
      "outputs": [
        {
          "output_type": "stream",
          "name": "stdout",
          "text": [
            "PDF will be read from: /root/Downloads/Distribution Overhead Construction Standards (DOH) (1).pdf\n",
            "CSV will be saved to: /root/Downloads/extracted_tables.csv\n"
          ]
        }
      ],
      "source": [
        "# Set up file paths\n",
        "# By default, we'll use the Downloads folder\n",
        "downloads_folder = os.path.join(os.path.expanduser(\"~\"), \"Downloads\")\n",
        "\n",
        "# You can modify these paths as needed\n",
        "\n",
        "#change the pdf name to the name of the pdf you want to extract\n",
        "pdf_path = os.path.join(downloads_folder, \"Distribution Overhead Construction Standards (DOH) (1).pdf\")\n",
        "#optional: change the csv name to the name of the csv you want to save the extracted tables to\n",
        "output_csv = os.path.join(downloads_folder, \"extracted_tables.csv\")\n",
        "\n",
        "# Display the paths to confirm\n",
        "print(f\"PDF will be read from: {pdf_path}\")\n",
        "print(f\"CSV will be saved to: {output_csv}\")"
      ]
    },
    {
      "cell_type": "markdown",
      "metadata": {
        "id": "PRbmHGQL9bd3"
      },
      "source": [
        "## Extraction Function\n",
        "The main function that extracts tables from the PDF:"
      ]
    },
    {
      "cell_type": "code",
      "execution_count": null,
      "metadata": {
        "id": "MeYcPnvK9bd3"
      },
      "outputs": [],
      "source": [
        "def extract_tables_from_pdf(pdf_path, output_csv):\n",
        "    \"\"\"\n",
        "    Extract tables from a PDF file and save them to a CSV file.\n",
        "\n",
        "    Parameters:\n",
        "    -----------\n",
        "    pdf_path : str\n",
        "        Path to the PDF file\n",
        "    output_csv : str\n",
        "        Path where the CSV file will be saved\n",
        "\n",
        "    Returns:\n",
        "    --------\n",
        "    bool\n",
        "        True if tables were found and extracted, False otherwise\n",
        "    \"\"\"\n",
        "    tables_list = []\n",
        "\n",
        "    # Open the PDF file\n",
        "    with pdfplumber.open(pdf_path) as pdf:\n",
        "        # Display total number of pages\n",
        "        print(f\"Processing PDF with {len(pdf.pages)} pages...\")\n",
        "\n",
        "        # Process each page\n",
        "        for i, page in enumerate(pdf.pages):\n",
        "            tables = page.extract_tables()\n",
        "            if tables:\n",
        "                print(f\"Found {len(tables)} table(s) on page {i+1}\")\n",
        "                for table in tables:\n",
        "                    tables_list.append(pd.DataFrame(table))\n",
        "            else:\n",
        "                print(f\"No tables found on page {i+1}\")\n",
        "\n",
        "    # Combine all tables into one DataFrame (if multiple tables exist)\n",
        "    if tables_list:\n",
        "        final_df = pd.concat(tables_list, ignore_index=True)\n",
        "        final_df.to_csv(output_csv, index=False, header=False)  # Save as CSV\n",
        "        print(f\"✅ Tables extracted and saved to: {output_csv}\")\n",
        "\n",
        "        # Preview the data\n",
        "        print(\"\\nPreview of extracted data:\")\n",
        "        return final_df.head(10)\n",
        "    else:\n",
        "        print(\"⚠️ No tables found in the PDF.\")\n",
        "        return None"
      ]
    },
    {
      "cell_type": "markdown",
      "metadata": {
        "id": "ls1LQse69bd4"
      },
      "source": [
        "## Run the Extraction\n"
      ]
    },
    {
      "cell_type": "code",
      "execution_count": null,
      "metadata": {
        "colab": {
          "base_uri": "https://localhost:8080/"
        },
        "id": "g-g4Kx7e9bd4",
        "outputId": "0611603e-fe37-4de2-81cf-7aa30aefed87"
      },
      "outputs": [
        {
          "output_type": "stream",
          "name": "stdout",
          "text": [
            "⚠️ PDF file not found at: /root/Downloads/Distribution Overhead Construction Standards (DOH) (1).pdf\n",
            "Please update the pdf_path variable with the correct path to your PDF file.\n"
          ]
        }
      ],
      "source": [
        "# Check if the PDF file exists\n",
        "if os.path.exists(pdf_path):\n",
        "    # Extract tables from the PDF\n",
        "    extracted_data = extract_tables_from_pdf(pdf_path, output_csv)\n",
        "\n",
        "    # If tables were found, display a preview\n",
        "    if extracted_data is not None:\n",
        "        display(extracted_data)\n",
        "else:\n",
        "    print(f\"⚠️ PDF file not found at: {pdf_path}\")\n",
        "    print(\"Please update the pdf_path variable with the correct path to your PDF file.\")"
      ]
    },
    {
      "cell_type": "markdown",
      "metadata": {
        "id": "BXpHq_bN9bd4"
      },
      "source": [
        "## Customizing the Script\n",
        "You can modify this script to work with any PDF file:"
      ]
    },
    {
      "cell_type": "code",
      "execution_count": null,
      "metadata": {
        "id": "n0seFjI99bd4"
      },
      "outputs": [],
      "source": [
        "# Example: Extract tables from a different PDF file\n",
        "custom_pdf_path = \"/path/to/your/custom.pdf\"\n",
        "custom_output_csv = \"/path/to/save/output.csv\"\n",
        "\n",
        "# Uncomment and run the following line to process a custom PDF\n",
        "# extract_tables_from_pdf(custom_pdf_path, custom_output_csv)"
      ]
    },
    {
      "cell_type": "markdown",
      "metadata": {
        "id": "egGfgKNP9bd5"
      },
      "source": [
        "## Troubleshooting\n",
        "If you encounter issues:\n",
        "\n",
        "PDF not found: Make sure the PDF file exists at the specified path\n",
        "No tables extracted: Some PDFs have tables that are not easily recognized by pdfplumber\n",
        "Try using a different PDF extraction library like `tabula-py` or `camelot-py`\n",
        "Installation issues: Make sure you have the latest versions of the required packages"
      ]
    }
  ],
  "metadata": {
    "kernelspec": {
      "display_name": "Python 3",
      "language": "python",
      "name": "python3"
    },
    "language_info": {
      "codemirror_mode": {
        "name": "ipython",
        "version": 3
      },
      "file_extension": ".py",
      "mimetype": "text/x-python",
      "name": "python",
      "nbconvert_exporter": "python",
      "pygments_lexer": "ipython3",
      "version": "3.9.6"
    },
    "colab": {
      "provenance": []
    }
  },
  "nbformat": 4,
  "nbformat_minor": 0
}